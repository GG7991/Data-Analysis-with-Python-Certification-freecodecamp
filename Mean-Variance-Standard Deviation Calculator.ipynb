{
 "cells": [
  {
   "cell_type": "code",
   "execution_count": 1,
   "id": "ffe8caf1",
   "metadata": {},
   "outputs": [
    {
     "data": {
      "text/plain": [
       "{'mean': [[3.0, 4.0, 5.0], [1.0, 4.0, 7.0], 4.0],\n",
       " 'variance': [[6.0, 6.0, 6.0],\n",
       "  [0.6666666666666666, 0.6666666666666666, 0.6666666666666666],\n",
       "  6.666666666666667],\n",
       " 'standard deviation': [[2.449489742783178,\n",
       "   2.449489742783178,\n",
       "   2.449489742783178],\n",
       "  [0.816496580927726, 0.816496580927726, 0.816496580927726],\n",
       "  2.581988897471611],\n",
       " 'max': [[6, 7, 8], [2, 5, 8], 8],\n",
       " 'min': [[0, 1, 2], [0, 3, 6], 0],\n",
       " 'sum': [[9, 12, 15], [3, 12, 21], 36]}"
      ]
     },
     "execution_count": 1,
     "metadata": {},
     "output_type": "execute_result"
    }
   ],
   "source": [
    "import numpy as np\n",
    "def calculate(input_list):\n",
    "    matrix = np.array(input_list).reshape(3, 3) \n",
    "    calculations = {\n",
    "        'mean': [np.mean(matrix,axis=0).tolist(),np.mean(matrix,axis=1).tolist(),np.mean(matrix).tolist()],\n",
    "        'variance': [np.var(matrix,axis=0).tolist(),np.var(matrix,axis=1).tolist(),np.var(matrix).tolist()],\n",
    "        'standard deviation':[np.std(matrix,axis=0).tolist(),np.std(matrix,axis=1).tolist(),np.std(matrix).tolist()],\n",
    "        'max': [np.max(matrix,axis=0).tolist(),np.max(matrix,axis=1).tolist(),np.max(matrix).tolist()],\n",
    "        'min': [np.min(matrix,axis=0).tolist(),np.min(matrix,axis=1).tolist(),np.min(matrix).tolist()],\n",
    "         'sum': [np.sum(matrix,axis=0).tolist(),np.sum(matrix,axis=1).tolist(),np.sum(matrix).tolist()]\n",
    "    }\n",
    "    return calculations\n",
    "calculate([0,1,2,3,4,5,6,7,8])\n",
    "    "
   ]
  },
  {
   "cell_type": "code",
   "execution_count": null,
   "id": "46ed70fb",
   "metadata": {},
   "outputs": [],
   "source": []
  }
 ],
 "metadata": {
  "kernelspec": {
   "display_name": "Python 3 (ipykernel)",
   "language": "python",
   "name": "python3"
  },
  "language_info": {
   "codemirror_mode": {
    "name": "ipython",
    "version": 3
   },
   "file_extension": ".py",
   "mimetype": "text/x-python",
   "name": "python",
   "nbconvert_exporter": "python",
   "pygments_lexer": "ipython3",
   "version": "3.9.11"
  }
 },
 "nbformat": 4,
 "nbformat_minor": 5
}
